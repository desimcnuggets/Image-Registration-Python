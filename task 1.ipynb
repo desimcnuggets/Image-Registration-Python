{
 "cells": [
  {
   "cell_type": "code",
   "execution_count": 140,
   "metadata": {},
   "outputs": [],
   "source": [
    "import numpy as np\n",
    "\n",
    "import cv2\n",
    "\n",
    "%matplotlib qt\n",
    "import matplotlib.pyplot as plt\n",
    "\n",
    "from PIL import Image \n",
    "\n",
    "import math\n",
    "import numpy as np"
   ]
  },
  {
   "cell_type": "markdown",
   "metadata": {},
   "source": [
    "<b> Task 1 </b>"
   ]
  },
  {
   "cell_type": "code",
   "execution_count": 141,
   "metadata": {},
   "outputs": [
    {
     "name": "stdout",
     "output_type": "stream",
     "text": [
      "Click a point on the image and click the same point on the same image!\n",
      "[[335.60059374 180.0360813 ]\n",
      " [255.8306691  264.73007536]\n",
      " [ 43.603277   124.88650377]]\n"
     ]
    }
   ],
   "source": [
    "image1 = cv2.imread('mecca1.jpg', 1)\n",
    "image2 = cv2.imread('mecca2.jpg', 1)\n",
    "\n",
    "#plt.imshow(image2)\n",
    "print(\"Click a point on the image and click the same point on the same image!\")\n",
    "\n",
    "plt.imshow(image2)\n",
    "plt.axis('image')\n",
    "\n",
    "point1 = plt.ginput(3, 30)\n",
    "point1 = np.array(point1)\n",
    "#(Arfa) Point 1: Left corner(the ground). Point 2: ITU logo. Point 3: Bottom right corner of parking.\n",
    "print(point1)"
   ]
  },
  {
   "cell_type": "code",
   "execution_count": 142,
   "metadata": {},
   "outputs": [
    {
     "name": "stdout",
     "output_type": "stream",
     "text": [
      "[[ 24.91105275   9.38581868]\n",
      " [129.55823247  22.00285453]\n",
      " [138.46437543 255.41801781]]\n"
     ]
    }
   ],
   "source": [
    "plt.imshow(image1)\n",
    "plt.axis('image')\n",
    "\n",
    "point2 = plt.ginput(3, 30)\n",
    "point2 = np.array(point2)\n",
    "print(point2)"
   ]
  },
  {
   "cell_type": "code",
   "execution_count": 143,
   "metadata": {},
   "outputs": [
    {
     "name": "stdout",
     "output_type": "stream",
     "text": [
      "[[ -0.53281853   0.74255378  68.83452841]\n",
      " [ -0.73745174  -0.54757308 354.60948704]]\n",
      "Error of Image intensity =  48.005442307692306\n",
      "Error of points = 2.341023436974018\n"
     ]
    }
   ],
   "source": [
    "def recovertransformation(image1, image2, point1, point2):\n",
    "    \n",
    "    matrix1 = np.arange(9)\n",
    "    matrix1 = matrix1.reshape(3, 3)\n",
    "\n",
    "    matrix1[0][0] = point1[0][0]\n",
    "    matrix1[1][0] = point1[0][1]\n",
    "    matrix1[2][0] = 1\n",
    "\n",
    "    matrix1[0][1] = point1[1][0]\n",
    "    matrix1[1][1] = point1[1][1]\n",
    "    matrix1[2][1] = 1\n",
    "\n",
    "    matrix1[0][2] = point1[2][0]\n",
    "    matrix1[1][2] = point1[2][1]\n",
    "    matrix1[2][2] = 1\n",
    "\n",
    "    ps1 = np.linalg.pinv(matrix1)\n",
    "    \n",
    "    \n",
    "    matrix2 = np.arange(6)\n",
    "    matrix2 = matrix2.reshape(2, 3)\n",
    "\n",
    "    matrix2[0][0] = point2[0][0]\n",
    "    matrix2[1][0] = point2[0][1]\n",
    "\n",
    "    matrix2[0][1] = point2[1][0]\n",
    "    matrix2[1][1] = point2[1][1]\n",
    "\n",
    "    matrix2[0][2] = point2[2][0]\n",
    "    matrix2[1][2] = point2[2][1]\n",
    "\n",
    "    ps2 = np.linalg.pinv(matrix2)\n",
    "    \n",
    "    #print(matrix1)\n",
    "    #print(ps1)\n",
    "    #print(matrix2)\n",
    "    #print(ps2)\n",
    "\n",
    "    \n",
    "    T = np.matmul(matrix2, ps1)\n",
    "    print(T)\n",
    "\n",
    "    rows, cols, x = image1.shape\n",
    "\n",
    "    final = cv2.warpAffine(image2, T, (cols, rows))\n",
    "    plt.imshow(final)\n",
    "    \n",
    "    err = np.mean((image1 - final)**2)\n",
    "    print(\"Error of Image intensity = \", err)\n",
    "    \n",
    "    point3 = plt.ginput(3, 30)\n",
    "    point3 = np.array(point3)\n",
    "    #print(point3)\n",
    "    \n",
    "    err1 = np.mean((point2 - point3)**2)\n",
    "    print(\"Error of points =\", err1)\n",
    "\n",
    "    cv2.imwrite('arfa_transformed1.jpg', final)\n",
    "    \n",
    "    return T, final, err, err1\n",
    "\n",
    "t, result, error1, error2 = recovertransformation(image1, image2, point1, point2)"
   ]
  },
  {
   "cell_type": "code",
   "execution_count": null,
   "metadata": {},
   "outputs": [],
   "source": []
  }
 ],
 "metadata": {
  "kernelspec": {
   "display_name": "Python 3",
   "language": "python",
   "name": "python3"
  },
  "language_info": {
   "codemirror_mode": {
    "name": "ipython",
    "version": 3
   },
   "file_extension": ".py",
   "mimetype": "text/x-python",
   "name": "python",
   "nbconvert_exporter": "python",
   "pygments_lexer": "ipython3",
   "version": "3.7.3"
  }
 },
 "nbformat": 4,
 "nbformat_minor": 2
}
