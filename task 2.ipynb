{
 "cells": [
  {
   "cell_type": "code",
   "execution_count": 1,
   "metadata": {},
   "outputs": [],
   "source": [
    "import numpy as np\n",
    "\n",
    "import cv2\n",
    "\n",
    "%matplotlib qt\n",
    "import matplotlib.pyplot as plt\n",
    "\n",
    "from PIL import Image \n",
    "\n",
    "import math\n",
    "import numpy as np"
   ]
  },
  {
   "cell_type": "markdown",
   "metadata": {},
   "source": [
    "<b> Task 2 </b>"
   ]
  },
  {
   "cell_type": "code",
   "execution_count": 29,
   "metadata": {},
   "outputs": [
    {
     "name": "stdout",
     "output_type": "stream",
     "text": [
      "[[198.52839211 323.22982666]\n",
      " [303.13090257 323.22982666]\n",
      " [253.8182905   13.90526001]]\n"
     ]
    }
   ],
   "source": [
    "image1 = cv2.imread('ss.jpg', 1)\n",
    "image2 = cv2.imread('sss.jpg', 1)\n",
    "\n",
    "plt.imshow(image2)\n",
    "plt.axis('image')\n",
    "\n",
    "point1 = plt.ginput(3, 60)\n",
    "point1 = np.array(point1)\n",
    "\n",
    "print(point1)"
   ]
  },
  {
   "cell_type": "code",
   "execution_count": 30,
   "metadata": {},
   "outputs": [
    {
     "name": "stdout",
     "output_type": "stream",
     "text": [
      "[[302.97782258 209.83485887]\n",
      " [351.53427419 208.48606855]\n",
      " [327.25604839  61.46792339]]\n"
     ]
    }
   ],
   "source": [
    "plt.imshow(image1)\n",
    "plt.axis('image')\n",
    "\n",
    "point2 = plt.ginput(3, 60)\n",
    "point2 = np.array(point2)\n",
    "print(point2)"
   ]
  },
  {
   "cell_type": "code",
   "execution_count": 31,
   "metadata": {},
   "outputs": [
    {
     "name": "stdout",
     "output_type": "stream",
     "text": [
      "[[ 4.66666667e-01  2.15053763e-03  2.08905376e+02]\n",
      " [-9.52380952e-03  4.75729647e-01  5.72250384e+01]]\n"
     ]
    }
   ],
   "source": [
    "def registerimages(image1, image2, point1, point2):\n",
    "    \n",
    "    matrix1 = np.arange(9)\n",
    "    matrix1 = matrix1.reshape(3, 3)\n",
    "\n",
    "    matrix1[0][0] = point1[0][0]\n",
    "    matrix1[1][0] = point1[0][1]\n",
    "    matrix1[2][0] = 1\n",
    "\n",
    "    matrix1[0][1] = point1[1][0]\n",
    "    matrix1[1][1] = point1[1][1]\n",
    "    matrix1[2][1] = 1\n",
    "\n",
    "    matrix1[0][2] = point1[2][0]\n",
    "    matrix1[1][2] = point1[2][1]\n",
    "    matrix1[2][2] = 1\n",
    "\n",
    "    ps1 = np.linalg.pinv(matrix1)\n",
    "    \n",
    "    \n",
    "    matrix2 = np.arange(6)\n",
    "    matrix2 = matrix2.reshape(2, 3)\n",
    "\n",
    "    matrix2[0][0] = point2[0][0]\n",
    "    matrix2[1][0] = point2[0][1]\n",
    "\n",
    "    matrix2[0][1] = point2[1][0]\n",
    "    matrix2[1][1] = point2[1][1]\n",
    "\n",
    "    matrix2[0][2] = point2[2][0]\n",
    "    matrix2[1][2] = point2[2][1]\n",
    "\n",
    "    T = np.matmul(matrix2, ps1)\n",
    "    print(T)\n",
    "\n",
    "    rows, cols, x = image1.shape\n",
    "\n",
    "    final = cv2.warpAffine(image2, T, (cols, rows))\n",
    "\n",
    "    for i in range(0, rows):\n",
    "        for j in range(0, cols):\n",
    "            if(final[i][j][0] == 0):\n",
    "                final[i][j] = image1[i][j]\n",
    "                \n",
    "    plt.imshow(final)\n",
    "    \n",
    "    return final\n",
    "\n",
    "registered = registerimages(image1, image2, point1, point2)"
   ]
  },
  {
   "cell_type": "code",
   "execution_count": 32,
   "metadata": {},
   "outputs": [
    {
     "data": {
      "text/plain": [
       "True"
      ]
     },
     "execution_count": 32,
     "metadata": {},
     "output_type": "execute_result"
    }
   ],
   "source": [
    "cv2.imwrite('poland_registered.jpg', registered)"
   ]
  },
  {
   "cell_type": "code",
   "execution_count": null,
   "metadata": {},
   "outputs": [],
   "source": []
  }
 ],
 "metadata": {
  "kernelspec": {
   "display_name": "Python 3",
   "language": "python",
   "name": "python3"
  },
  "language_info": {
   "codemirror_mode": {
    "name": "ipython",
    "version": 3
   },
   "file_extension": ".py",
   "mimetype": "text/x-python",
   "name": "python",
   "nbconvert_exporter": "python",
   "pygments_lexer": "ipython3",
   "version": "3.7.6"
  }
 },
 "nbformat": 4,
 "nbformat_minor": 2
}
